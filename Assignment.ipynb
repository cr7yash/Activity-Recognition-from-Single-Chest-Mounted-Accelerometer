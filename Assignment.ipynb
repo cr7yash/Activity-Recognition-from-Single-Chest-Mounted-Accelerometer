{
  "nbformat": 4,
  "nbformat_minor": 0,
  "metadata": {
    "colab": {
      "name": "Assignment.ipynb",
      "provenance": [],
      "collapsed_sections": [],
      "authorship_tag": "ABX9TyMT0ui7JXXwqzBptMkydVRq",
      "include_colab_link": true
    },
    "kernelspec": {
      "name": "python3",
      "display_name": "Python 3"
    }
  },
  "cells": [
    {
      "cell_type": "markdown",
      "metadata": {
        "id": "view-in-github",
        "colab_type": "text"
      },
      "source": [
        "<a href=\"https://colab.research.google.com/github/cr7yash/Activity-Recognition-from-Single-Chest-Mounted-Accelerometer/blob/main/Assignment.ipynb\" target=\"_parent\"><img src=\"https://colab.research.google.com/assets/colab-badge.svg\" alt=\"Open In Colab\"/></a>"
      ]
    },
    {
      "cell_type": "code",
      "metadata": {
        "id": "JwONZ09LXJ4F",
        "colab": {
          "base_uri": "https://localhost:8080/"
        },
        "outputId": "e19a6efa-9d37-4adc-83a4-0970baafcfbb"
      },
      "source": [
        "!pip install pandas matplotlib sklearn"
      ],
      "execution_count": null,
      "outputs": [
        {
          "output_type": "stream",
          "text": [
            "Requirement already satisfied: pandas in /usr/local/lib/python3.6/dist-packages (1.1.5)\n",
            "Requirement already satisfied: matplotlib in /usr/local/lib/python3.6/dist-packages (3.2.2)\n",
            "Requirement already satisfied: sklearn in /usr/local/lib/python3.6/dist-packages (0.0)\n",
            "Requirement already satisfied: numpy>=1.15.4 in /usr/local/lib/python3.6/dist-packages (from pandas) (1.19.4)\n",
            "Requirement already satisfied: pytz>=2017.2 in /usr/local/lib/python3.6/dist-packages (from pandas) (2018.9)\n",
            "Requirement already satisfied: python-dateutil>=2.7.3 in /usr/local/lib/python3.6/dist-packages (from pandas) (2.8.1)\n",
            "Requirement already satisfied: cycler>=0.10 in /usr/local/lib/python3.6/dist-packages (from matplotlib) (0.10.0)\n",
            "Requirement already satisfied: pyparsing!=2.0.4,!=2.1.2,!=2.1.6,>=2.0.1 in /usr/local/lib/python3.6/dist-packages (from matplotlib) (2.4.7)\n",
            "Requirement already satisfied: kiwisolver>=1.0.1 in /usr/local/lib/python3.6/dist-packages (from matplotlib) (1.3.1)\n",
            "Requirement already satisfied: scikit-learn in /usr/local/lib/python3.6/dist-packages (from sklearn) (0.22.2.post1)\n",
            "Requirement already satisfied: six>=1.5 in /usr/local/lib/python3.6/dist-packages (from python-dateutil>=2.7.3->pandas) (1.15.0)\n",
            "Requirement already satisfied: joblib>=0.11 in /usr/local/lib/python3.6/dist-packages (from scikit-learn->sklearn) (1.0.0)\n",
            "Requirement already satisfied: scipy>=0.17.0 in /usr/local/lib/python3.6/dist-packages (from scikit-learn->sklearn) (1.4.1)\n"
          ],
          "name": "stdout"
        }
      ]
    },
    {
      "cell_type": "code",
      "metadata": {
        "id": "FbmcA8Fc5OT9"
      },
      "source": [
        "import pandas as pd\n",
        "import matplotlib.pyplot as plt\n"
      ],
      "execution_count": 1,
      "outputs": []
    },
    {
      "cell_type": "code",
      "metadata": {
        "id": "TN0fnp8z5XkH"
      },
      "source": [
        "# Reading the files\n",
        "filenames = ['1.csv','2.csv','3.csv','4.csv','5.csv','1.csv','1.csv','1.csv','1.csv','1.csv','1.csv','1.csv','1.csv','1.csv','1.csv']\n",
        "\n",
        "final_df = pd.DataFrame()\n",
        "\n",
        "pId = 0\n",
        "for pId, files in enumerate(filenames):\n",
        "  df = pd.read_csv(files, index_col=None, header=None)\n",
        "  df['User ID'] = pId + 1 \n",
        "  final_df= final_df.append(df)\n",
        "\n",
        "del final_df[0]\n",
        "final_df.columns = ['X-acceleration', 'Y-acceleration', 'Z-acceleration', 'Activity ID', 'User ID']"
      ],
      "execution_count": 3,
      "outputs": []
    },
    {
      "cell_type": "code",
      "metadata": {
        "id": "x4CXSWjs5dIX",
        "colab": {
          "base_uri": "https://localhost:8080/"
        },
        "outputId": "d6030192-4277-4fb4-f9f9-77c09eed0668"
      },
      "source": [
        "\n",
        "#Basic information about the dataset\n",
        "print(\"Dataset Info: \")\n",
        "print(final_df.info())\n",
        "print(\"Dataset Description: \")\n",
        "print(final_df.iloc[:, 0:3].describe())"
      ],
      "execution_count": 8,
      "outputs": [
        {
          "output_type": "stream",
          "text": [
            "Dataset Info: \n",
            "<class 'pandas.core.frame.DataFrame'>\n",
            "Int64Index: 2310055 entries, 0 to 162500\n",
            "Data columns (total 5 columns):\n",
            " #   Column          Dtype\n",
            "---  ------          -----\n",
            " 0   X-acceleration  int64\n",
            " 1   Y-acceleration  int64\n",
            " 2   Z-acceleration  int64\n",
            " 3   Activity ID     int64\n",
            " 4   User ID         int64\n",
            "dtypes: int64(5)\n",
            "memory usage: 105.7 MB\n",
            "None\n",
            "Dataset Description: \n",
            "       X-acceleration  Y-acceleration  Z-acceleration\n",
            "count    2.310055e+06    2.310055e+06    2.310055e+06\n",
            "mean     1.929663e+03    2.374221e+03    2.022799e+03\n",
            "std      6.744604e+01    4.783067e+01    7.403733e+01\n",
            "min      1.094000e+03    2.000000e+00    2.000000e+00\n",
            "25%      1.890000e+03    2.364000e+03    1.983000e+03\n",
            "50%      1.910000e+03    2.379000e+03    2.009000e+03\n",
            "75%      1.963000e+03    2.385000e+03    2.080000e+03\n",
            "max      3.625000e+03    4.094000e+03    4.094000e+03\n"
          ],
          "name": "stdout"
        }
      ]
    },
    {
      "cell_type": "code",
      "metadata": {
        "colab": {
          "base_uri": "https://localhost:8080/"
        },
        "id": "hygEief0n8wu",
        "outputId": "a4f3f754-ce7a-4da3-dfb1-45abb69f6d82"
      },
      "source": [
        "#Number of activities performed by each user \n",
        "activityPerUser = final_df['Activity ID'].value_counts()\n",
        "print(\"Activity Per User :\")\n",
        "print(activityPerUser)\n",
        "totalCountOfActivity = activityPerUser.sum()\n",
        "print(totalCountOfActivity)"
      ],
      "execution_count": 7,
      "outputs": [
        {
          "output_type": "stream",
          "text": [
            "Activity Per User :\n",
            "7    1088689\n",
            "1     518792\n",
            "4     393585\n",
            "3     185562\n",
            "5      48413\n",
            "6      45377\n",
            "2      29353\n",
            "0        284\n",
            "Name: Activity ID, dtype: int64\n",
            "2310055\n"
          ],
          "name": "stdout"
        }
      ]
    },
    {
      "cell_type": "markdown",
      "metadata": {
        "id": "0P5HYNEfoxUX"
      },
      "source": [
        "# Data Exploration"
      ]
    },
    {
      "cell_type": "code",
      "metadata": {
        "colab": {
          "base_uri": "https://localhost:8080/",
          "height": 278
        },
        "id": "ltvQUogJoT50",
        "outputId": "00d53add-92ac-46f7-c27c-2d0cd4701116"
      },
      "source": [
        "person = final_df.iloc[:, -2].value_counts()\n",
        "person.plot(kind = 'bar', title = \"Activities\");"
      ],
      "execution_count": 9,
      "outputs": [
        {
          "output_type": "display_data",
          "data": {
            "image/png": "[encoded data removed]",
            "text/plain": [
              "<Figure size 432x288 with 1 Axes>"
            ]
          },
          "metadata": {
            "tags": [],
            "needs_background": "light"
          }
        }
      ]
    },
    {
      "cell_type": "code",
      "metadata": {
        "id": "TTHQeO77pDqi"
      },
      "source": [
        "test = pd.crosstab(index=final_acc.iloc[:, -1], columns=final_acc.iloc[:, -2])\n",
        "test.plot(kind = \"barh\", stacked = True, figsize = (20, 5));"
      ],
      "execution_count": null,
      "outputs": []
    },
    {
      "cell_type": "markdown",
      "metadata": {
        "id": "XcjzcdcnpHp0"
      },
      "source": [
        "# Activities"
      ]
    },
    {
      "cell_type": "code",
      "metadata": {
        "id": "Wwi8im_RpKpX"
      },
      "source": [
        "# Working at Computers \n",
        "expOne = final_acc[final_acc['Activity ID'] == 1]\n",
        "expOne = expOne[['X-acceleration', 'Y-acceleration', 'Z-acceleration']]\n",
        "expOne = expOne[:40000]\n",
        "axOne = expOne.plot(subplots = True, figsize = (15, 5))"
      ],
      "execution_count": null,
      "outputs": []
    },
    {
      "cell_type": "markdown",
      "metadata": {
        "id": "1SNtVqzdpPYt"
      },
      "source": [
        "# Observations"
      ]
    },
    {
      "cell_type": "code",
      "metadata": {
        "id": "1yOy--NVpSgM"
      },
      "source": [
        "# Standing Up, Walking and going up down stairs \n",
        "expTwo = final_acc[final_acc['Activity ID'] == 2]\n",
        "expTwo = expTwo[['X-acceleration', 'Y-acceleration', 'Z-acceleration']]\n",
        "expTwo = expTwo[:40000]\n",
        "axTwo = expTwo.plot(subplots = True, figsize = (15, 5))"
      ],
      "execution_count": null,
      "outputs": []
    },
    {
      "cell_type": "code",
      "metadata": {
        "id": "BS6WqPsIpVVj"
      },
      "source": [
        "#Standing\n",
        "expThree = final_acc[final_acc['Activity ID'] == 3]\n",
        "expThree = expThree[['X-acceleration', 'Y-acceleration', 'Z-acceleration']]\n",
        "expThree = expThree[:40000]\n",
        "axThree = expThree.plot(subplots = True, figsize=(15, 5))"
      ],
      "execution_count": null,
      "outputs": []
    },
    {
      "cell_type": "code",
      "metadata": {
        "id": "5hH7l4ejpahc"
      },
      "source": [
        "# Walking\n",
        "expFour = final_acc[final_acc['Activity ID'] == 4]\n",
        "expFour = expFour[['X-acceleration', 'Y-acceleration', 'Z-acceleration']]\n",
        "expFour = expFour[:4000]\n",
        "axFour  = expFour.plot(subplots = True, figsize=(15, 5))"
      ],
      "execution_count": null,
      "outputs": []
    },
    {
      "cell_type": "code",
      "metadata": {
        "id": "sTCzyR7lpdLW"
      },
      "source": [
        "# Going UP Down Stairs\n",
        "expFive = final_acc[final_acc['Activity ID'] == 5]\n",
        "expFive = expFive[['X-acceleration', 'Y-acceleration', 'Z-acceleration']]\n",
        "expFive = expFive[:40000]\n",
        "axFive  = expFive.plot(subplots = True, figsize=(15, 5))"
      ],
      "execution_count": null,
      "outputs": []
    },
    {
      "cell_type": "code",
      "metadata": {
        "id": "oxsHTWsEpe4c"
      },
      "source": [
        "# Walking and talking with someone\n",
        "expSix = final_acc[final_acc['Activity ID'] == 6]\n",
        "expSix = expSix[['X-acceleration', 'Y-acceleration', 'Z-acceleration']]\n",
        "expSix = expSix[:40000]\n",
        "axSix  = expSix.plot(subplots = True, figsize=(15, 5))"
      ],
      "execution_count": null,
      "outputs": []
    },
    {
      "cell_type": "code",
      "metadata": {
        "id": "RCleGL_7pgut"
      },
      "source": [
        "#Talking while standing\n",
        "expSeven = final_acc[final_acc['Activity ID'] == 7]\n",
        "expSeven = expSeven[['X-acceleration', 'Y-acceleration', 'Z-acceleration']]\n",
        "expSeven = expSeven[:4000]\n",
        "axSeven  = expSeven.plot(subplots = True, figsize = (15, 5))"
      ],
      "execution_count": null,
      "outputs": []
    },
    {
      "cell_type": "markdown",
      "metadata": {
        "id": "mMfBHMchpkN2"
      },
      "source": [
        "# Data Modelling"
      ]
    },
    {
      "cell_type": "code",
      "metadata": {
        "id": "scBEbLsepmkl"
      },
      "source": [
        "from sklearn.model_selection import train_test_split #importing train_test_split library from sklearn\n",
        "x = final_acc.iloc[:, 0:3] #Features (Independent Variables)\n",
        "y = final_acc.iloc[:, -2] #Target Variables (Dependent Variables)\n",
        "#Splitting the data into train and test, keeping 70% in train and rest 30% in test\n",
        "x_train, x_test, y_train, y_test = train_test_split(x, y, test_size = 0.30) \n",
        "print(\"X Train:\\n\", x_train.head(3), \"\\n\")\n",
        "print(\"Y Train:\\n\", y_train.head(3), \"\\n\")\n",
        "print(\"X Test (Unseen Data):\\n\", x_test.head(3), \"\\n\")\n",
        "print(\"Y Test (Unseen Data):\\n\", y_test.head(3), \"\\n\")"
      ],
      "execution_count": null,
      "outputs": []
    },
    {
      "cell_type": "markdown",
      "metadata": {
        "id": "EBCA0xOkpvqy"
      },
      "source": [
        "Decision tree classifier"
      ]
    },
    {
      "cell_type": "code",
      "metadata": {
        "id": "4vKvBSIQpxkO"
      },
      "source": [
        "from sklearn.utils import shuffle \n",
        "from sklearn.tree import DecisionTreeClassifier as dtc\n",
        "\n",
        "new_Index = []\n",
        "MaxScore = 0.0\n",
        "columnNum = 3\n",
        "randomIndex = shuffle(range(0,columnNum), random_state=0)\n",
        "\n",
        "\n",
        "for i in range(0, columnNum):\n",
        "    new_Index.append(randomIndex[i])\n",
        "    newData = final_acc.iloc[:, new_Index]\n",
        "    X_train, X_test, Y_train, Y_test = train_test_split(newData, y, test_size=0.4, random_state=0)\n",
        "    classifier = dtc(criterion = 'gini', max_depth = 15)\n",
        "    fit = classifier.fit(X_train, Y_train)\n",
        "    cur_Score = classifier.score(X_test, Y_test)\n",
        "    if cur_Score < MaxScore:\n",
        "        new_Index.remove(randomIndex[i])\n",
        "    else:\n",
        "        MaxScore = cur_Score\n",
        "        print(\"Score with \" + str(len(new_Index)) + \" selected features: \" + str(cur_Score))\n"
      ],
      "execution_count": null,
      "outputs": []
    },
    {
      "cell_type": "code",
      "metadata": {
        "id": "h90djUWwp15H"
      },
      "source": [
        "from sklearn import metrics\n",
        "from sklearn.metrics import accuracy_score as acc\n",
        "accur = []\n",
        "accur2 = []\n",
        "val = 0\n",
        "val2 = 0\n",
        "print(\"\\n Criterion : Gini\\n\")\n",
        "for i in range(1, 20):\n",
        "    k = i+1\n",
        "    decisionTreeClassifier = dtc(criterion = 'gini', max_depth = k)\n",
        "    decisionTreeClassifier.fit(x_train, y_train)\n",
        "    y_predict = decisionTreeClassifier.predict(x_test)\n",
        "    a = acc(y_test, y_predict)*100\n",
        "    if a > val:\n",
        "        val = a\n",
        "        ind = k\n",
        "    accur.append(a)\n",
        "    print(\"Accuracy for criterion GINI and Max_depth =\", k, \" is \", a, \"%\")\n",
        "\n",
        "print(\"\\nCriterion : Entropy \\n\")\n",
        "for i in range(1, 20):\n",
        "    k = i+1\n",
        "    decisionTreeClassifier = dtc(criterion = 'entropy', max_depth = k)\n",
        "    decisionTreeClassifier.fit(x_train, y_train)\n",
        "    y_predict = decisionTreeClassifier.predict(x_test)\n",
        "    a = acc(y_test, y_predict)*100\n",
        "    if a > val2:\n",
        "        val2 = a\n",
        "        ind = k\n",
        "    accur2.append(a)\n",
        "    print(\"Accuracy for criterion ENTROPY and Max_depth =\", k, \" is \", a, \"%\")\n",
        "    \n",
        "print(\"\\n\")\n",
        "if max(accur) > max(accur2):\n",
        "    print(\"Criterion selected as GINI and max depth\", ind, \"will give us an accuracy score of \", max(accur))\n",
        "    plt.figure(figsize=(16,5))\n",
        "    plt.title(\"Model Accuracy Score: \\n\")\n",
        "    plt.ylabel(\"Accuracy Scores: (in %)\")\n",
        "    plt.ylim(40, 100)\n",
        "    plt.xlim(0, 25)\n",
        "    plt.xlabel(\"Max_depth\")\n",
        "    plt.plot(range(1, 20), accur)\n",
        "    plt.vlines(ind, plt.ylim()[0], plt.ylim()[1], linestyles='dashed', colors = 'red');\n",
        "else:\n",
        "    print(\"Criterion selected as ENTROPY and max depth\", ind, \"will give us an accuracy score of \", max(accur2))\n",
        "    plt.figure(figsize=(16,5))\n",
        "    plt.title(\"Model Accuracy Score: \\n\")\n",
        "    plt.ylabel(\"Accuracy Scores: (in %)\")\n",
        "    plt.ylim(40, 100)\n",
        "    plt.xlim(0, 25)\n",
        "    plt.xlabel(\"Max_depth\")\n",
        "    plt.plot(range(1, 20), accur2)\n",
        "    plt.vlines(ind, plt.ylim()[0], plt.ylim()[1], linestyles='dashed', colors = 'red');"
      ],
      "execution_count": null,
      "outputs": []
    },
    {
      "cell_type": "code",
      "metadata": {
        "id": "wLiIurRdp9g5"
      },
      "source": [
        "from sklearn.tree import DecisionTreeClassifier as dtc #importing Decision tree classifier from sklearn\n",
        "from sklearn.metrics import classification_report as cr # classification report\n",
        "from sklearn import metrics #importing metrics library to calculate the accuracy of the classifier model \n",
        "from sklearn.metrics import confusion_matrix\n",
        "\n",
        "decision_tree = dtc(criterion = 'gini', max_depth = 15) #Normal decision tree will \"Default Parameters\"\n",
        "decision_tree.fit(x_train, y_train) #fitting the x train and y train set into the decision tree model \n",
        "y_predicted = decision_tree.predict(x_test)"
      ],
      "execution_count": null,
      "outputs": []
    },
    {
      "cell_type": "code",
      "metadata": {
        "id": "rHyYjb7fp-Bd"
      },
      "source": [
        "#Accuracy Score for the above trained decision tree classifier with default parameter\n",
        "print('Accuracy Score for Normal Decision Tree Classifier: ', (metrics.accuracy_score(y_test, y_predicted)*100))\n",
        "#Printing the classification report for the normal decision tree\n",
        "print(\"Classification Report for Normal Decision Tree :\")\n",
        "target_names = ['0', 'Working at computer', 'Standing up, Walking and going updown', 'Standing', 'Walking', 'Going upDown stairs', 'Walking and talking', 'Talking While Standing']\n",
        "print(cr(y_test, y_predicted, digits = 3, target_names=target_names))\n",
        "#Confusion Matrix\n",
        "cm = confusion_matrix(y_test, y_predicted)\n",
        "print(\"Confusion Matrix:\")\n",
        "print(cm, \"\\n\")\n",
        "\n",
        "# For plotting confusion matrix\n",
        "import seaborn as sns\n",
        "import matplotlib.pyplot as plt  \n",
        "\n",
        "print(\"Visualising confusion matrix : \\n\")\n",
        "\n",
        "fig = plt.figure(figsize = (27, 5))\n",
        "ax= plt.subplot()\n",
        "target_names = ['0', 'Working at computer', 'Standing up, Walking and going updown', 'Standing', 'Walking', 'Going upDown stairs', 'Walking and talking', 'Talking While Standing']\n",
        "sns.set(font_scale=1.4)\n",
        "sns.heatmap(cm, annot=True, ax = ax, fmt='g'); #annot=True to annotate cells\n",
        "ax.set_xlabel('Predicted labels', fontweight=\"bold\");\n",
        "ax.set_ylabel('True labels', fontweight=\"bold\"); \n",
        "ax.set_title('Confusion Matrix', fontweight=\"bold\"); \n",
        "\n",
        "plt.setp(ax.get_yticklabels(), rotation= 45, ha=\"right\",\n",
        "         rotation_mode=\"anchor\")\n",
        "\n",
        "plt.setp(ax.get_xticklabels(), rotation=45, ha=\"right\",\n",
        "         rotation_mode=\"anchor\")\n",
        "\n",
        "ax.xaxis.set_ticklabels(target_names); ax.yaxis.set_ticklabels(target_names);"
      ],
      "execution_count": null,
      "outputs": []
    },
    {
      "cell_type": "markdown",
      "metadata": {
        "id": "MeDQlq3RqCsW"
      },
      "source": [
        "Decision Tree With Kfold Cross Validation:\n"
      ]
    },
    {
      "cell_type": "code",
      "metadata": {
        "id": "fJhFynakqERT"
      },
      "source": [
        "from sklearn.model_selection import KFold as kf\n",
        "from sklearn.model_selection import cross_val_score as cvs\n",
        "from sklearn.tree import DecisionTreeClassifier as dtc\n",
        "from sklearn.model_selection import cross_val_predict as cvp\n",
        "\n",
        "decision_model = dtc() \n",
        "k_fold = kf(n_splits = 25, random_state = 0)\n",
        "#Decision Tree Model is trained on the entire dataset\n",
        "accuracyScores = cvs(decision_model, x, y, cv = k_fold) \n",
        "#Predicting the target values using the modified decision tree model on the unseen data\n",
        "pred = cvp(decision_model, x_test, y_test)"
      ],
      "execution_count": null,
      "outputs": []
    },
    {
      "cell_type": "code",
      "metadata": {
        "id": "d1zDgE6AqGgG"
      },
      "source": [
        "#Accuracy Score for tha above trained decision tree classifier\n",
        "print(\"Mean accuracy for the Decision Tree Classifier(Cross Validation Score): \", accuracyScores.mean())\n",
        "#Printing the classification report\n",
        "print(\"Classification Report for Decision Tree(KFold Cross Validation) :\")\n",
        "target_names = ['0', 'Working at computer', 'Standing up, Walking and going updown', 'Standing', 'Walking', 'Going upDown stairs', 'Walking and talking', 'Talking While Standing']\n",
        "print(cr(y_test, pred, digits = 3, target_names=target_names))\n",
        "#Confusion Matrix\n",
        "cm = confusion_matrix(y_test, pred)\n",
        "print(\"Confusion Matrix:\")\n",
        "print(cm)\n",
        "\n",
        "# For plotting confusion matrix\n",
        "import seaborn as sns\n",
        "import matplotlib.pyplot as plt  \n",
        "\n",
        "print(\"\\nVisualising confusion matrix : \\n\")\n",
        "\n",
        "fig = plt.figure(figsize = (27, 5))\n",
        "ax= plt.subplot()\n",
        "target_names = ['0', 'Working at computer', 'Standing up, Walking and going updown', 'Standing', 'Walking', 'Going upDown stairs', 'Walking and talking', 'Talking While Standing']\n",
        "sns.set(font_scale=1.4)\n",
        "sns.heatmap(cm, annot=True, ax = ax, fmt='g'); #annot=True to annotate cells\n",
        "ax.set_xlabel('Predicted labels', fontweight=\"bold\");\n",
        "ax.set_ylabel('True labels', fontweight=\"bold\"); \n",
        "ax.set_title('Confusion Matrix', fontweight=\"bold\"); \n",
        "\n",
        "plt.setp(ax.get_yticklabels(), rotation=45, ha=\"right\",\n",
        "         rotation_mode=\"anchor\")\n",
        "\n",
        "plt.setp(ax.get_xticklabels(), rotation=45, ha=\"right\",\n",
        "         rotation_mode=\"anchor\")\n",
        "\n",
        "ax.xaxis.set_ticklabels(target_names); ax.yaxis.set_ticklabels(target_names);"
      ],
      "execution_count": null,
      "outputs": []
    },
    {
      "cell_type": "markdown",
      "metadata": {
        "id": "uo7kdvTBqRox"
      },
      "source": [
        " Decision Tree With KFold Cross Validation (Shuffle)¶"
      ]
    },
    {
      "cell_type": "code",
      "metadata": {
        "id": "-xpnNv2PqSF8"
      },
      "source": [
        "ShuffK_fold = kf(n_splits = 25, random_state = 0, shuffle = True)\n",
        "accuracyScores1 = cvs(decision_model, x, y, cv = ShuffK_fold) \n",
        "Strat_pred = cvp(dtc(), x_test, y_test)"
      ],
      "execution_count": null,
      "outputs": []
    },
    {
      "cell_type": "code",
      "metadata": {
        "id": "vUZ9Ap9oqTr8"
      },
      "source": [
        "#Accuracy Score for tha above trained decision tree classifier\n",
        "print(\"Accuracy Score for Normal Decision Tree Classifier: \", accuracyScores1.mean())\n",
        "#Printing the classification report\n",
        "print(\"Classification Report for Decision Tree:\")\n",
        "print(cr(y_test, Strat_pred, digits = 3))\n",
        "#Confusion Matrix\n",
        "cm = confusion_matrix(y_test, Strat_pred)\n",
        "print(\"Confusion Matrix:\\n\", cm)\n",
        "\n",
        "# For plotting confusion matrix\n",
        "import seaborn as sns\n",
        "import matplotlib.pyplot as plt  \n",
        "\n",
        "print(\"\\nVisualising confusion matrix : \\n\")\n",
        "\n",
        "fig = plt.figure(figsize = (27, 5))\n",
        "ax= plt.subplot()\n",
        "target_names = ['0', 'Working at computer', 'Standing up, Walking and going updown', 'Standing', 'Walking', 'Going upDown stairs', 'Walking and talking', 'Talking While Standing']\n",
        "sns.set(font_scale=1.4)\n",
        "sns.heatmap(cm, annot=True, ax = ax, fmt='g'); #annot=True to annotate cells\n",
        "ax.set_xlabel('Predicted labels', fontweight=\"bold\");\n",
        "ax.set_ylabel('True labels', fontweight=\"bold\"); \n",
        "ax.set_title('Confusion Matrix', fontweight=\"bold\"); \n",
        "\n",
        "plt.setp(ax.get_yticklabels(), rotation=45, ha=\"right\",\n",
        "         rotation_mode=\"anchor\")\n",
        "\n",
        "plt.setp(ax.get_xticklabels(), rotation=45, ha=\"right\",\n",
        "         rotation_mode=\"anchor\")\n",
        "\n",
        "ax.xaxis.set_ticklabels(target_names); ax.yaxis.set_ticklabels(target_names);"
      ],
      "execution_count": null,
      "outputs": []
    },
    {
      "cell_type": "markdown",
      "metadata": {
        "id": "mytJXNvnqZAi"
      },
      "source": [
        "# KNN (KNearst Neighbor) Classifier:"
      ]
    },
    {
      "cell_type": "code",
      "metadata": {
        "id": "7TJvU80LqZ18"
      },
      "source": [
        "from sklearn.utils import shuffle \n",
        "from sklearn.neighbors import KNeighborsClassifier as knc\n",
        "\n",
        "new_Index = []\n",
        "MaxScore = 0.0\n",
        "columnNum = 3\n",
        "randomIndex = shuffle(range(0,columnNum), random_state=0)\n",
        "\n",
        "\n",
        "for i in range(0, columnNum):\n",
        "    new_Index.append(randomIndex[i])\n",
        "    newData = final_acc.iloc[:, new_Index]\n",
        "    X_train, X_test, Y_train, Y_test = train_test_split(newData, y, test_size=0.4, random_state=0)\n",
        "    classifier = knc(5)\n",
        "    fit = classifier.fit(X_train, Y_train)\n",
        "    cur_Score = classifier.score(X_test, Y_test)\n",
        "    if cur_Score < MaxScore:\n",
        "        new_Index.remove(randomIndex[i])\n",
        "    else:\n",
        "        MaxScore = cur_Score\n",
        "        print(\"Score with \" + str(len(new_Index)) + \" selected features: \" + str(cur_Score))"
      ],
      "execution_count": null,
      "outputs": []
    },
    {
      "cell_type": "markdown",
      "metadata": {
        "id": "Gu2zJEewqgik"
      },
      "source": [
        "Finding the optimum number of neighbours for the KNN Model\n"
      ]
    },
    {
      "cell_type": "code",
      "metadata": {
        "id": "TerS347nqcQe"
      },
      "source": [
        "from sklearn import metrics\n",
        "from sklearn.metrics import accuracy_score as acc\n",
        "accur = []\n",
        "optimum = 0\n",
        "val3 = 0\n",
        "for i in range(1, 25):\n",
        "    k = i+1\n",
        "    neighbors = knc(n_neighbors = k)\n",
        "    neighbors.fit(x_train, y_train)\n",
        "    y_predict = neighbors.predict(x_test)\n",
        "    a = acc(y_test, y_predict)*100\n",
        "    accur.append(a)\n",
        "    if a > val3:\n",
        "        val3 = a\n",
        "        optimum = k\n",
        "    print(\"Accuracy is \", a, \"% for k value : \", k)\n",
        "\n",
        "print(\"\\n The optimum number of neighbors for this dataset is \", optimum)\n",
        "\n",
        "\n",
        "plt.figure(figsize=(16,5))\n",
        "plt.title(\"Model Accuracy Score: \\n\")\n",
        "plt.ylabel(\"Accuracy Scores: (in %)\")\n",
        "plt.ylim(40, 100)\n",
        "plt.xlim(0, 25)\n",
        "plt.xlabel(\"Neighbors\")\n",
        "plt.plot(range(1, 25), accur)"
      ],
      "execution_count": null,
      "outputs": []
    },
    {
      "cell_type": "markdown",
      "metadata": {
        "id": "88Ukqa2mqkrB"
      },
      "source": [
        "KNN model using the optimum number of neighbors (Calculated Above)¶\n"
      ]
    },
    {
      "cell_type": "code",
      "metadata": {
        "id": "Cmq9QclFqk_v"
      },
      "source": [
        "# Importing KNN Classifier \n",
        "from sklearn.neighbors import KNeighborsClassifier as knc \n",
        "\n",
        "knnModel = knc(25)\n",
        "#Fitting the training and test set \n",
        "knnModel_1 = knnModel.fit(x_train, y_train) \n",
        "y_pred = knnModel_1.predict(x_test)"
      ],
      "execution_count": null,
      "outputs": []
    },
    {
      "cell_type": "code",
      "metadata": {
        "id": "XBoAW-yPqm-G"
      },
      "source": [
        "from sklearn.metrics import classification_report as cr\n",
        "from sklearn.metrics import accuracy_score\n",
        "\n",
        "print(\"Accuracy Score for Normal KNN: \", metrics.accuracy_score(y_test, y_pred))\n",
        "print(\"Classification Report: \\n\", cr(y_test, y_pred))\n",
        "#Confusion Matrix\n",
        "cm = confusion_matrix(y_test, y_pred)\n",
        "print(\"Confusion Matrix:\\n\", cm)\n",
        "\n",
        "# For plotting confusion matrix\n",
        "import seaborn as sns\n",
        "import matplotlib.pyplot as plt  \n",
        "\n",
        "print(\"\\nVisualising confusion matrix : \\n\")\n",
        "\n",
        "fig = plt.figure(figsize = (27, 5))\n",
        "ax= plt.subplot()\n",
        "target_names = ['0', 'Working at computer', 'Standing up, Walking and going updown', 'Standing', 'Walking', 'Going upDown stairs', 'Walking and talking', 'Talking While Standing']\n",
        "sns.set(font_scale=1.4)\n",
        "sns.heatmap(cm, annot=True, ax = ax, fmt='g'); #annot=True to annotate cells\n",
        "ax.set_xlabel('Predicted labels', fontweight=\"bold\");\n",
        "ax.set_ylabel('True labels', fontweight=\"bold\"); \n",
        "ax.set_title('Confusion Matrix', fontweight=\"bold\"); \n",
        "\n",
        "plt.setp(ax.get_yticklabels(), rotation=45, ha=\"right\",\n",
        "         rotation_mode=\"anchor\")\n",
        "\n",
        "plt.setp(ax.get_xticklabels(), rotation=45, ha=\"right\",\n",
        "         rotation_mode=\"anchor\")\n",
        "\n",
        "ax.xaxis.set_ticklabels(target_names); ax.yaxis.set_ticklabels(target_names);"
      ],
      "execution_count": null,
      "outputs": []
    },
    {
      "cell_type": "markdown",
      "metadata": {
        "id": "ciGzgUxXqrGH"
      },
      "source": [
        "# KNN with KFold Cross Validation\n"
      ]
    },
    {
      "cell_type": "code",
      "metadata": {
        "id": "DeAnaC1nqvil"
      },
      "source": [
        "from sklearn.model_selection import KFold as kf\n",
        "from sklearn.model_selection import cross_val_score as cvs\n",
        "from sklearn.neighbors import KNeighborsClassifier as knc \n",
        "from sklearn.model_selection import cross_val_predict as cvp\n",
        "\n",
        "Knn = knc() \n",
        "k_fold = kf(n_splits = 25, random_state = 0)\n",
        "#KNN is trained on the entire dataset\n",
        "accuracyScores = cvs(Knn, x, y, cv = k_fold) \n",
        "#Predicting the target values using the modified KNN model on the unseen data\n",
        "pred = cvp(Knn, x_test, y_test)"
      ],
      "execution_count": null,
      "outputs": []
    },
    {
      "cell_type": "code",
      "metadata": {
        "id": "P30e4dXQqxtL"
      },
      "source": [
        "#Accuracy Score for tha above trained KNN classifier\n",
        "print(\"Mean accuracy for the KNN Classifier(Cross Validation Score): \", accuracyScores.mean())\n",
        "#Printing the classification report\n",
        "print(\"Classification Report for KNN(KFold Cross Validation) :\")\n",
        "print(cr(y_test, pred, digits = 3))\n",
        "#Confusion Matrix\n",
        "cm = confusion_matrix(y_test, pred)\n",
        "print(\"Confusion Matrix:\")\n",
        "print(cm)\n",
        "\n",
        "# For plotting confusion matrix\n",
        "import seaborn as sns\n",
        "import matplotlib.pyplot as plt  \n",
        "\n",
        "print(\"\\nVisualising confusion matrix : \\n\")\n",
        "\n",
        "fig = plt.figure(figsize = (27, 5))\n",
        "ax= plt.subplot()\n",
        "target_names = ['0', 'Working at computer', 'Standing up, Walking and going updown', 'Standing', 'Walking', 'Going upDown stairs', 'Walking and talking', 'Talking While Standing']\n",
        "sns.set(font_scale=1.4)\n",
        "sns.heatmap(cm, annot=True, ax = ax, fmt='g'); #annot=True to annotate cells\n",
        "ax.set_xlabel('Predicted labels', fontweight=\"bold\");\n",
        "ax.set_ylabel('True labels', fontweight=\"bold\"); \n",
        "ax.set_title('Confusion Matrix', fontweight=\"bold\"); \n",
        "\n",
        "plt.setp(ax.get_yticklabels(), rotation=45, ha=\"right\",\n",
        "         rotation_mode=\"anchor\")\n",
        "\n",
        "plt.setp(ax.get_xticklabels(), rotation=45, ha=\"right\",\n",
        "         rotation_mode=\"anchor\")\n",
        "\n",
        "ax.xaxis.set_ticklabels(target_names); ax.yaxis.set_ticklabels(target_names);"
      ],
      "execution_count": null,
      "outputs": []
    },
    {
      "cell_type": "markdown",
      "metadata": {
        "id": "ExeRN7wwq3J5"
      },
      "source": [
        "# KNN With KFold Cross Validation (Shuffle)\n"
      ]
    },
    {
      "cell_type": "code",
      "metadata": {
        "id": "7J8l9KIwq4OD"
      },
      "source": [
        "SK_fold = kf(n_splits = 25, random_state = 0, shuffle = True)\n",
        "accuracyScores1 = cvs(Knn, x, y, cv = SK_fold) \n",
        "Strat_pred1 = cvp(Knn, x_test, y_test)"
      ],
      "execution_count": null,
      "outputs": []
    },
    {
      "cell_type": "code",
      "metadata": {
        "id": "CJJd8dKcq6Zc"
      },
      "source": [
        "#Accuracy Score for tha above trained KNN classifier\n",
        "print(\"Accuracy Score for the KNN Classifier(Cross Validation Score): \", accuracyScores1.mean())\n",
        "#Printing the classification report\n",
        "print(\"Classification Report for KNN(Stratified shuffel Cross Validation) :\")\n",
        "print(cr(y_test, Strat_pred, digits = 3))\n",
        "#Confusion Matrix\n",
        "cm = confusion_matrix(y_test, Strat_pred1)\n",
        "print(\"Confusion Matrix:\\n\", cm)\n",
        "\n",
        "# For plotting confusion matrix\n",
        "import seaborn as sns\n",
        "import matplotlib.pyplot as plt  \n",
        "\n",
        "print(\"\\nVisualising confusion matrix : \\n\")\n",
        "\n",
        "fig = plt.figure(figsize = (27, 5))\n",
        "ax= plt.subplot()\n",
        "target_names = ['0', 'Working at computer', 'Standing up, Walking and going updown', 'Standing', 'Walking', 'Going upDown stairs', 'Walking and talking', 'Talking While Standing']\n",
        "sns.set(font_scale=1.4)\n",
        "sns.heatmap(cm, annot=True, ax = ax, fmt='g'); #annot=True to annotate cells\n",
        "ax.set_xlabel('Predicted labels', fontweight=\"bold\");\n",
        "ax.set_ylabel('True labels', fontweight=\"bold\"); \n",
        "ax.set_title('Confusion Matrix', fontweight=\"bold\"); \n",
        "\n",
        "plt.setp(ax.get_yticklabels(), rotation=45, ha=\"right\",\n",
        "         rotation_mode=\"anchor\")\n",
        "\n",
        "plt.setp(ax.get_xticklabels(), rotation=45, ha=\"right\",\n",
        "         rotation_mode=\"anchor\")\n",
        "\n",
        "ax.xaxis.set_ticklabels(target_names); ax.yaxis.set_ticklabels(target_names);"
      ],
      "execution_count": null,
      "outputs": []
    },
    {
      "cell_type": "markdown",
      "metadata": {
        "id": "YslzRaQgrBw2"
      },
      "source": [
        "# **Conclusion**:\n",
        "\n",
        "From the above classification models, it is evident that KNN (K-Nearst Neighbor) has the best accuracy overall i.e. 72%; whereas the accuracy score for the decision tree is somewhere around 65%. Therefore, for the \"Activity Recognition from Single Chest-Mounted Accelerometer\" dataset KNN classification model can be consdered to recognise the given activity. However, in the dataset, there were a lot of ambiguty, which had to be mitigated."
      ]
    }
  ]
}